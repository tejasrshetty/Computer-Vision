import cv2
import numpy as np
import math


def create_box_filter(n): # Create box filter g of size n*n return g
    if n%2 == 0:
        n+=1
    g = np.ones((n,n))/(n*n)
    return g


def create_gaussian_filter(sigma):
    n = 2*math.floor(3*sigma)+1
    if n%2 == 0:
        n+=1
    # The size nxn of our filter # Create Gaussian filter g of size n*n return g
    g = np.zeros((n,n))
    # print(g.shape)
    const_term= 1/ (2*math.pi*sigma*sigma)
    # print('Constant Term',const_term)
    for i in range(g.shape[0]):
        for j in range(g.shape[1]):
            x_term = i - math.floor(n/2)
            y_term = j- math.floor(n/2)
            exp_term = (-1*(x_term**2 + y_term**2))/(2*sigma*sigma)
            # print(exp_term)
            # print("Constant",1/const_term)
            g[i][j] = math.exp(exp_term)
            g[i][j] = g[i][j]*const_term
    return g


def get_filtered_pixel_value(img_matrix, f):
    # print("Filter" , f)
    # print("img_matrix" , img_matrix)
    # print("Image Matrix" , img_matrix)
    # print("Filter " ,f)
    prod = np.dot(img_matrix.flatten(), f.flatten())
    if prod <0:
        prod = 0
    # print(prod)
    return prod


def compute_median_filter(img, filter_length):
    filtered_image = np.zeros_like(img)
    pad_width = math.floor(math.floor(filter_length/2))
    padded_img = np.pad(img, pad_width=pad_width, mode='constant')
    if filter_length %2 == 0:
        filter_length += 1
    for i in range(pad_width, img.shape[0]):
        for j in range(pad_width ,img.shape[1]):
            img_matrix = padded_img[i- math.floor(filter_length/2): i + math.floor(filter_length/2) ,
                              j - math.floor(filter_length/2) : j+ math.floor(filter_length/2)]
            filtered_image[i][j] = sorted(img_matrix.flatten())[math.floor(filter_length/2)]
    return filtered_image


def convolution2d(f, img):
    # print("FFFFFFFFFFFFF", f.shape)
    pad_width = math.floor(f.shape[0]/2)
    padded_img =np.pad(img, pad_width =pad_width, mode = 'constant').astype(np.float32)
    # print(" Padded Image  " , padded_img)
    filtered_img = np.zeros_like(img)
    for i in range(pad_width, img.shape[0]):
        for j in range(pad_width , img.shape[1]):
            # print("Hmm")
            # print(padded_img[i - math.floor(f.shape[0] / 2):i + math.floor(f.shape[0]/2 +1), j - math.floor(f.shape[1]/2): j+ math.floor(f.shape[1]/2 +1)])
            img_matrix = padded_img[i-math.floor(f.shape[0]/2):i + math.floor(f.shape[0]/2 +1),
                         j - math.floor(f.shape[1]/2): j+ math.floor(f.shape[1]/2)+1]
            # print("Input Image Matrix", img_matrix)
            # print("Image Matrix", img_matrix.shape)
            filtered_img[i][j] = get_filtered_pixel_value(img_matrix=img_matrix, f=f)

            # print( "Filter Image Output",filtered_img[i][j])
    return filtered_img


def compute_final_image_derivative(horizontal_derivative_image, vertical_derivative_image):
    final_image = np.zeros_like(horizontal_derivative_image)
    threshold_image = np.zeros_like(horizontal_derivative_image)
    threshold = 75

    for i in range(horizontal_derivative_image.shape[0]):
        for j in range(horizontal_derivative_image.shape[1]):
            final_image[i][j] = math.sqrt(horizontal_derivative_image[i][j]**2 + vertical_derivative_image[i][j]**2)
            if final_image[i][j] > threshold:
                threshold_image[i][j] = 255
            else:
                threshold_image[i][j] = 0
    return final_image,threshold_image


def compute_derivative(img):
    # pad_width = math.floor(math.floor(3/2))
    # padded_img = np.pad(img, pad_width=pad_width, mode='constant')
    # print("Padded Image" , padded_img)
    horizontal_derivative_filter = np.array([
        [0, 0 , 0],
        [-1, 0, 1],
        [0, 0, 0]
    ])
    print("Calculating Horizontal Derivative *****************************************************")
    horizontal_derivative_image = convolution2d(img=img, f=horizontal_derivative_filter)
    cv2.imwrite("h_derivative.png", horizontal_derivative_image)
    # print("H" , horizontal_derivative_image)
    vertical_derivative_filter = np.array([
        [0, -1, 0],
        [0, 0, 0],
        [0, 1 ,0]
    ])
    # from scipy import ndimage
    vertical_derivative_image = convolution2d(img=img, f=vertical_derivative_filter)
    # print("V" , vertical_derivative_image)
    # convolved_result = ndimage.filters.convolve(img, horizontal_derivative_filter)
    # cv2.imwrite("conv_result.png", convolved_result)

    # convolved_result_2 = ndimage.filters.convolve(img, vertical_derivative_filter)
    # cv2.imwrite("conv_result_2.png", convolved_result_2)
    cv2.imwrite("v_derivative.png", vertical_derivative_image)

    # final_hypo = np.hypot(convolved_result,convolved_result_2)
    # final_hypo = final_hypo/np.max(final_hypo)
    # final_hypo = final_hypo*255
    print("***************************")
    # print(final)
    # cv2.imwrite("final_hypo.png", final_hypo)

    filtered_derivative_image ,threshold_image = compute_final_image_derivative(horizontal_derivative_image, vertical_derivative_image)
    # filtered_derivative_image = filtered_derivative_image *255
    cv2.imwrite("threshold.png", threshold_image)
    return filtered_derivative_image


def compute_filter (img, filter_type, filter_parameters):
    if filter_type == "box":
        filter_length = filter_parameters["filter_length"]
        box_filter = create_box_filter(filter_length)
        # print("filter ",box_filter)
        # print("filter shape" , box_filter.shape)
        filtered_image = convolution2d(img=img, f=box_filter)
        return filtered_image
    elif filter_type == "gaussian":
        sigma = filter_parameters['sigma']
        gaussian_filter = create_gaussian_filter(sigma= sigma)
        filtered_image = convolution2d(img=img, f = gaussian_filter)
        return filtered_image
    elif filter_type == "median":
        filter_length = filter_parameters['filter_length']
        filtered_image = compute_median_filter(img, filter_length)
        return filtered_image
    elif filter_type == "derivative":
        # sigma_gauss = 0.5
        # gaussian_filter = create_gaussian_filter(sigma=sigma_gauss)
        # gauss_filtered_image = convolution2d(img=img, f=gaussian_filter)
        filtered_image = compute_derivative(img = img)
        return filtered_image



if __name__ == "__main__":
    # Filtering Lena Image with Box filter
    # input_img_loc = "lena.png"
    # img = cv2.imread(input_img_loc, 0)
    # box_filter_parameters = {"filter_length":3}
    # box_filtered_img = compute_filter(img=img,filter_type="box",filter_parameters=box_filter_parameters)
    # output_img_loc = "box_filtered_lena_" + str(box_filter_parameters["filter_length"]) +  "_"+ \
    #                  str(box_filter_parameters["filter_length"]) + ".png"
    # print("Location" ,output_img_loc)
    # cv2.imwrite(output_img_loc, box_filtered_img)
    #
    # # Adding Noise to lena image and performing box_filtering
    # sigma_noise = 0.5
    # im_noise = img + sigma_noise * np.random.randn(*img.shape)
    # box_filtered_img = compute_filter(img=img, filter_type="box", filter_parameters=box_filter_parameters)
    # output_img_loc = "box_filtered_lena_" + str(box_filter_parameters["filter_length"]) + "_" + \
    #                  str(box_filter_parameters["filter_length"]) + "_noise_sigma_" +str(sigma_noise) + ".png"
    # print("Location", output_img_loc)
    # cv2.imwrite(output_img_loc, box_filtered_img)

    # Filtering Lena Image with Gaussian filter
    # input_img_loc = "lena.png"
    # img = cv2.imread(input_img_loc, 0)
    # gaussian_filter_parameters = {"sigma": 0.5}
    # gaussian_filter_parameters["filter_length"] = 2*math.floor(3*gaussian_filter_parameters["sigma"])+1
    # if gaussian_filter_parameters["filter_length"] %2 == 0:
    #     gaussian_filter_parameters["filter_length"] +=1
    # gaussian_filtered_img = compute_filter(img=img, filter_type="gaussian", filter_parameters=gaussian_filter_parameters)
    # output_img_loc = "gaussian_filtered_lena_" + str(gaussian_filter_parameters["filter_length"]) + "_" + \
    #                  str(gaussian_filter_parameters["filter_length"]) + ".png"
    # print("Location", output_img_loc)
    # cv2.imwrite(output_img_loc, gaussian_filtered_img)
    #
    # # Adding Noise to lena image and performing Gaussian filtering
    # sigma_noise = 0.9
    # im_noise = img + sigma_noise * np.random.randn(*img.shape)
    # gaussian_filtered_img = compute_filter(img=img, filter_type="gaussian", filter_parameters=gaussian_filter_parameters)
    # output_img_loc = "gaussian_filtered_lena_" + str(gaussian_filter_parameters["filter_length"]) + "_" + \
    #                  str(gaussian_filter_parameters["filter_length"]) + "_noise_sigma_" +str(sigma_noise) + ".png"
    # print("Location", output_img_loc)
    # cv2.imwrite(output_img_loc, gaussian_filtered_img)
    #
    # # Filtering Lena Image with Median filter
    # input_img_loc = "lena.png"
    # img = cv2.imread(input_img_loc, 0)
    # median_filter_parameters = {"filter_length":3}
    # median_filtered_img = compute_filter(img=img,filter_type="median",filter_parameters=median_filter_parameters)
    # output_img_loc = "median_filtered_lena_" + str(median_filter_parameters["filter_length"]) +  "_"+ \
    #                  str(median_filter_parameters["filter_length"]) + ".png"
    # print("Location" ,output_img_loc)
    # cv2.imwrite(output_img_loc, median_filtered_img)
    #
    #
    #
    # # Adding Noise to lena image and performing Median Filtering
    #
    # # Adding Noise to lena image and performing box_filtering
    # sigma_noise = 0.9
    # im_noise = img + sigma_noise * np.random.randn(*img.shape)
    # box_filtered_img = compute_filter(img=img, filter_type="median", filter_parameters=median_filter_parameters)
    # output_img_loc = "median_filtered_lena_" + str(median_filter_parameters["filter_length"]) + "_" + \
    #                  str(median_filter_parameters["filter_length"]) + "_noise_sigma_" +str(sigma_noise) + ".png"
    # print("Location", output_img_loc)
    # cv2.imwrite(output_img_loc, box_filtered_img)





    # # Calculating the derivative of the cameraman image
    # # also performing thresholding on it to get the black and white image
    # input_img_loc = "cameraman.png"
    # img = cv2.imread(input_img_loc, 0)
    # derivative_filtered_img = compute_filter(img=img,filter_type="derivative",filter_parameters=None)
    # output_img_loc = "derivative_filtered_Cameraman" ".png"
    # print("Location" ,output_img_loc)
    # cv2.imwrite(output_img_loc, derivative_filtered_img)


    # Thresholding the multiple_keys.png image

    input_img_loc_new = "multiplekeys.png"
    img_new = cv2.imread(input_img_loc_new, 0)
    key_threshold = 210
    threshold_key_img = np.zeros_like(img_new)
    for i in range(img_new.shape[0]):
        for j in range(img_new.shape[1]):
            if img_new[i][j] > key_threshold:
                threshold_key_img[i][j] = 255
            else:
                threshold_key_img[i][j] = 0
    threshold_key_img_output_loc = "threshold_key_img.png"
    cv2.imwrite(threshold_key_img_output_loc, threshold_key_img)
    temp_key_threshold = 210
    template_image = cv2.imread("key_template_3.png",0)
    template_bin_image = np.zeros_like(template_image)
    for i in range(template_image.shape[0]):
        for j in range(template_image.shape[1]):
            if template_image[i][j] > temp_key_threshold:
                template_bin_image[i][j] = 255
            else:
                template_bin_image[i][j] = 0
        template_bin_image_path = "key_template_4.png"
        cv2.imwrite(template_bin_image_path, template_bin_image)

        # Implementing Cross Corelation
        corelation_output = convolution2d(img= threshold_key_img, f=template_bin_image.T)
        corelation_output_dir = "corelation_output.png"
        cv2.imwrite(corelation_output_dir, corelation_output)
